{
 "cells": [
  {
   "cell_type": "markdown",
   "id": "ca9e8232-5a3c-4909-974e-9314ae800aa7",
   "metadata": {},
   "source": [
    "                                 Getting Familiar with Pandas: "
   ]
  },
  {
   "cell_type": "code",
   "execution_count": 1,
   "id": "700b6aa8-c60d-40ac-9060-d9778fac6db1",
   "metadata": {},
   "outputs": [],
   "source": [
    "import pandas as pd"
   ]
  },
  {
   "cell_type": "code",
   "execution_count": 2,
   "id": "b4352eff-7d5b-41d9-8d22-dfadc27aa60b",
   "metadata": {},
   "outputs": [
    {
     "name": "stdout",
     "output_type": "stream",
     "text": [
      "0    10\n",
      "1    20\n",
      "2    30\n",
      "3    40\n",
      "4    50\n",
      "5    60\n",
      "6    70\n",
      "7    80\n",
      "8    90\n",
      "dtype: int64\n"
     ]
    }
   ],
   "source": [
    "                               # Creating a Series\n",
    "data_series= pd.Series([10, 20, 30, 40, 50,60,70,80,90])\n",
    "print(data_series)"
   ]
  },
  {
   "cell_type": "code",
   "execution_count": 36,
   "id": "8739f8d5-081c-4095-87af-5fcff0d30219",
   "metadata": {},
   "outputs": [
    {
     "name": "stdout",
     "output_type": "stream",
     "text": [
      "     Name  Rollno country\n",
      "0  girish      22   Japan\n",
      "1    prem      39   Japan\n",
      "2  hitesh      25   Japan\n"
     ]
    }
   ],
   "source": [
    "                                # Creating a DataFrame \n",
    "data=[['girish',22,'Japan'],['prem',39,'Japan'],['hitesh',25,'Japan']]\n",
    "data_frame=pd.DataFrame(data, columns=['Name','Rollno','country'])\n",
    "print(data_frame)"
   ]
  },
  {
   "cell_type": "code",
   "execution_count": 35,
   "id": "3918544e-2a69-42e9-8952-11938c1b631d",
   "metadata": {},
   "outputs": [
    {
     "name": "stdout",
     "output_type": "stream",
     "text": [
      "    Month  Sales  PromExp  Price  AdExp\n",
      "0       1  73959    61.13   8.75  50.04\n",
      "1       2  71544    60.19   8.99  50.74\n",
      "2       3  78587    59.16   7.50  50.14\n",
      "3       4  80364    60.38   7.25  50.27\n",
      "4       5  78771    59.71   7.40  51.25\n",
      "5       6  71986    59.88   8.50  50.65\n",
      "6       7  74885    60.14   8.40  50.87\n",
      "7       8  73345    60.08   7.90  50.15\n",
      "8       9  76659    59.90   7.25  48.24\n",
      "9      10  71880    59.68   8.70  50.19\n",
      "10     11  73598    59.83   8.40  51.11\n",
      "11     12  74893    59.77   8.10  51.49\n",
      "12     13  69003    59.29   8.40  50.10\n",
      "13     14  78542    60.40   7.40  49.24\n",
      "14     15  72543    59.89   8.00  50.04\n",
      "15     16  74247    60.06   8.30  49.46\n",
      "16     17  76253    60.51   8.10  51.62\n",
      "17     18  72582    58.93   8.20  49.78\n",
      "18     19  69022    60.09   8.99  48.60\n",
      "19     20  76200    61.00   7.99  49.00\n",
      "20     21  69701    59.00   8.50  48.00\n",
      "21     22  77005    59.50   7.90  54.00\n",
      "22     23  70987    58.00   7.99  48.70\n",
      "23     24  75643    60.50   8.25  50.00\n"
     ]
    }
   ],
   "source": [
    "df1=pd.read_csv(\"C:/Users/srisr/Downloads/Toy-Sales-dataset.csv\")\n",
    "print(df1)"
   ]
  },
  {
   "cell_type": "code",
   "execution_count": 37,
   "id": "165d2b4d-1314-4b28-8d51-ada51557264b",
   "metadata": {},
   "outputs": [
    {
     "name": "stdout",
     "output_type": "stream",
     "text": [
      "0    girish\n",
      "1      prem\n",
      "2    hitesh\n",
      "Name: Name, dtype: object\n"
     ]
    }
   ],
   "source": [
    "                                   # Selecting data\n",
    "print(data_frame['Name'])"
   ]
  },
  {
   "cell_type": "code",
   "execution_count": 38,
   "id": "2b07abb9-7e88-4a97-a920-d636bb70a1f0",
   "metadata": {},
   "outputs": [
    {
     "name": "stdout",
     "output_type": "stream",
     "text": [
      "   Name  Rollno country\n",
      "1  prem      39   Japan\n"
     ]
    }
   ],
   "source": [
    "                                    # Filtering rows\n",
    "print(data_frame[data_frame['Rollno'] > 30])"
   ]
  },
  {
   "cell_type": "code",
   "execution_count": 40,
   "id": "c788a044-eabf-4c32-9408-88ca457c3b62",
   "metadata": {},
   "outputs": [
    {
     "name": "stdout",
     "output_type": "stream",
     "text": [
      "     Name  Rollno country\n",
      "0  girish      25   Japan\n",
      "1    prem      42   Japan\n",
      "2  hitesh      28   Japan\n"
     ]
    }
   ],
   "source": [
    "                                     # Modifying data\n",
    "data_frame['Rollno'] += 2\n",
    "print(data_frame)"
   ]
  },
  {
   "cell_type": "markdown",
   "id": "050be1e7-5270-4521-8a8d-579d35d93571",
   "metadata": {},
   "source": [
    "                                Data Handling with Pandas:"
   ]
  },
  {
   "cell_type": "code",
   "execution_count": 42,
   "id": "74f6831b-040a-436f-8ea4-452ff777b78d",
   "metadata": {},
   "outputs": [],
   "source": [
    "import numpy as np"
   ]
  },
  {
   "cell_type": "code",
   "execution_count": 79,
   "id": "e5bf3bd1-7fdb-443a-ab9b-4c59cebc7f86",
   "metadata": {},
   "outputs": [
    {
     "name": "stdout",
     "output_type": "stream",
     "text": [
      "      Name   Age         City   Salary\n",
      "0    Alice  24.0     New York  70000.0\n",
      "1      Bob  27.0  Los Angeles  80000.0\n",
      "2  Charlie   NaN     New York      NaN\n",
      "3    David  22.0       Boston  60000.0\n",
      "4   Edward  32.0      Chicago      NaN\n",
      "5    Alice  24.0     New York  70000.0\n"
     ]
    }
   ],
   "source": [
    "data = {\n",
    "    'Name': ['Alice', 'Bob', 'Charlie', 'David', 'Edward', 'Alice'],\n",
    "    'Age': [24, 27, np.nan, 22, 32, 24],\n",
    "    'City': ['New York', 'Los Angeles', 'New York', 'Boston', 'Chicago', 'New York'],\n",
    "    'Salary': [70000, 80000, np.nan, 60000, np.nan, 70000]}\n",
    "df = pd.DataFrame(data)\n",
    "print(df)"
   ]
  },
  {
   "cell_type": "code",
   "execution_count": 80,
   "id": "9f4af3fd-2284-45c5-9f7b-9418ec5204e7",
   "metadata": {},
   "outputs": [
    {
     "name": "stdout",
     "output_type": "stream",
     "text": [
      "\n",
      "Missing values in each column:\n",
      "Name      0\n",
      "Age       1\n",
      "City      0\n",
      "Salary    2\n",
      "dtype: int64\n"
     ]
    }
   ],
   "source": [
    "print(\"\\nMissing values in each column:\")\n",
    "print(df.isna().sum())"
   ]
  },
  {
   "cell_type": "code",
   "execution_count": 81,
   "id": "c89f29dd-eca5-4af6-9882-a6e3a73c442d",
   "metadata": {},
   "outputs": [
    {
     "data": {
      "text/html": [
       "<div>\n",
       "<style scoped>\n",
       "    .dataframe tbody tr th:only-of-type {\n",
       "        vertical-align: middle;\n",
       "    }\n",
       "\n",
       "    .dataframe tbody tr th {\n",
       "        vertical-align: top;\n",
       "    }\n",
       "\n",
       "    .dataframe thead th {\n",
       "        text-align: right;\n",
       "    }\n",
       "</style>\n",
       "<table border=\"1\" class=\"dataframe\">\n",
       "  <thead>\n",
       "    <tr style=\"text-align: right;\">\n",
       "      <th></th>\n",
       "      <th>Name</th>\n",
       "      <th>Age</th>\n",
       "      <th>City</th>\n",
       "      <th>Salary</th>\n",
       "    </tr>\n",
       "  </thead>\n",
       "  <tbody>\n",
       "    <tr>\n",
       "      <th>0</th>\n",
       "      <td>Alice</td>\n",
       "      <td>24.0</td>\n",
       "      <td>New York</td>\n",
       "      <td>70000.0</td>\n",
       "    </tr>\n",
       "    <tr>\n",
       "      <th>1</th>\n",
       "      <td>Bob</td>\n",
       "      <td>27.0</td>\n",
       "      <td>Los Angeles</td>\n",
       "      <td>80000.0</td>\n",
       "    </tr>\n",
       "    <tr>\n",
       "      <th>3</th>\n",
       "      <td>David</td>\n",
       "      <td>22.0</td>\n",
       "      <td>Boston</td>\n",
       "      <td>60000.0</td>\n",
       "    </tr>\n",
       "    <tr>\n",
       "      <th>5</th>\n",
       "      <td>Alice</td>\n",
       "      <td>24.0</td>\n",
       "      <td>New York</td>\n",
       "      <td>70000.0</td>\n",
       "    </tr>\n",
       "  </tbody>\n",
       "</table>\n",
       "</div>"
      ],
      "text/plain": [
       "    Name   Age         City   Salary\n",
       "0  Alice  24.0     New York  70000.0\n",
       "1    Bob  27.0  Los Angeles  80000.0\n",
       "3  David  22.0       Boston  60000.0\n",
       "5  Alice  24.0     New York  70000.0"
      ]
     },
     "execution_count": 81,
     "metadata": {},
     "output_type": "execute_result"
    }
   ],
   "source": [
    "# Drop missing data\n",
    "\n",
    "df.dropna() "
   ]
  },
  {
   "cell_type": "code",
   "execution_count": 82,
   "id": "32106728-13bf-4b55-bf1d-b890ae12e497",
   "metadata": {},
   "outputs": [
    {
     "data": {
      "text/html": [
       "<div>\n",
       "<style scoped>\n",
       "    .dataframe tbody tr th:only-of-type {\n",
       "        vertical-align: middle;\n",
       "    }\n",
       "\n",
       "    .dataframe tbody tr th {\n",
       "        vertical-align: top;\n",
       "    }\n",
       "\n",
       "    .dataframe thead th {\n",
       "        text-align: right;\n",
       "    }\n",
       "</style>\n",
       "<table border=\"1\" class=\"dataframe\">\n",
       "  <thead>\n",
       "    <tr style=\"text-align: right;\">\n",
       "      <th></th>\n",
       "      <th>Name</th>\n",
       "      <th>Age</th>\n",
       "      <th>City</th>\n",
       "      <th>Salary</th>\n",
       "    </tr>\n",
       "  </thead>\n",
       "  <tbody>\n",
       "    <tr>\n",
       "      <th>0</th>\n",
       "      <td>Alice</td>\n",
       "      <td>24.0</td>\n",
       "      <td>New York</td>\n",
       "      <td>70000.0</td>\n",
       "    </tr>\n",
       "    <tr>\n",
       "      <th>1</th>\n",
       "      <td>Bob</td>\n",
       "      <td>27.0</td>\n",
       "      <td>Los Angeles</td>\n",
       "      <td>80000.0</td>\n",
       "    </tr>\n",
       "    <tr>\n",
       "      <th>2</th>\n",
       "      <td>Charlie</td>\n",
       "      <td>NaN</td>\n",
       "      <td>New York</td>\n",
       "      <td>NaN</td>\n",
       "    </tr>\n",
       "    <tr>\n",
       "      <th>3</th>\n",
       "      <td>David</td>\n",
       "      <td>22.0</td>\n",
       "      <td>Boston</td>\n",
       "      <td>60000.0</td>\n",
       "    </tr>\n",
       "    <tr>\n",
       "      <th>4</th>\n",
       "      <td>Edward</td>\n",
       "      <td>32.0</td>\n",
       "      <td>Chicago</td>\n",
       "      <td>NaN</td>\n",
       "    </tr>\n",
       "  </tbody>\n",
       "</table>\n",
       "</div>"
      ],
      "text/plain": [
       "      Name   Age         City   Salary\n",
       "0    Alice  24.0     New York  70000.0\n",
       "1      Bob  27.0  Los Angeles  80000.0\n",
       "2  Charlie   NaN     New York      NaN\n",
       "3    David  22.0       Boston  60000.0\n",
       "4   Edward  32.0      Chicago      NaN"
      ]
     },
     "execution_count": 82,
     "metadata": {},
     "output_type": "execute_result"
    }
   ],
   "source": [
    "# Remove duplicates\n",
    "\n",
    "df.drop_duplicates()"
   ]
  },
  {
   "cell_type": "code",
   "execution_count": 86,
   "id": "bc2522b8-fd3f-4b37-9e89-b9f5c00cbe5b",
   "metadata": {},
   "outputs": [
    {
     "name": "stdout",
     "output_type": "stream",
     "text": [
      "      Name   Age         City   Salary\n",
      "0    Alice  24.0     New York  70000.0\n",
      "1      Bob  27.0  Los Angeles  80000.0\n",
      "2  Charlie   0.0     New York      0.0\n",
      "3    David  22.0       Boston  60000.0\n",
      "4   Edward  32.0      Chicago      0.0\n",
      "5    Alice  24.0     New York  70000.0\n"
     ]
    }
   ],
   "source": [
    "                       # Filling missing values with a specific value\n",
    "data_fill = df.fillna(0)\n",
    "print(data_fill)"
   ]
  },
  {
   "cell_type": "raw",
   "id": "987d6560-6b10-4787-a4d8-21e2b3aa778b",
   "metadata": {},
   "source": [
    "                                Data Analysis with Pandas:"
   ]
  },
  {
   "cell_type": "code",
   "execution_count": 90,
   "id": "df285b73-42b1-4123-b5a6-1d6ddf282e92",
   "metadata": {},
   "outputs": [
    {
     "data": {
      "text/html": [
       "<div>\n",
       "<style scoped>\n",
       "    .dataframe tbody tr th:only-of-type {\n",
       "        vertical-align: middle;\n",
       "    }\n",
       "\n",
       "    .dataframe tbody tr th {\n",
       "        vertical-align: top;\n",
       "    }\n",
       "\n",
       "    .dataframe thead th {\n",
       "        text-align: right;\n",
       "    }\n",
       "</style>\n",
       "<table border=\"1\" class=\"dataframe\">\n",
       "  <thead>\n",
       "    <tr style=\"text-align: right;\">\n",
       "      <th></th>\n",
       "      <th>Age</th>\n",
       "      <th>Salary</th>\n",
       "    </tr>\n",
       "  </thead>\n",
       "  <tbody>\n",
       "    <tr>\n",
       "      <th>count</th>\n",
       "      <td>5.000000</td>\n",
       "      <td>4.000000</td>\n",
       "    </tr>\n",
       "    <tr>\n",
       "      <th>mean</th>\n",
       "      <td>25.800000</td>\n",
       "      <td>70000.000000</td>\n",
       "    </tr>\n",
       "    <tr>\n",
       "      <th>std</th>\n",
       "      <td>3.898718</td>\n",
       "      <td>8164.965809</td>\n",
       "    </tr>\n",
       "    <tr>\n",
       "      <th>min</th>\n",
       "      <td>22.000000</td>\n",
       "      <td>60000.000000</td>\n",
       "    </tr>\n",
       "    <tr>\n",
       "      <th>25%</th>\n",
       "      <td>24.000000</td>\n",
       "      <td>67500.000000</td>\n",
       "    </tr>\n",
       "    <tr>\n",
       "      <th>50%</th>\n",
       "      <td>24.000000</td>\n",
       "      <td>70000.000000</td>\n",
       "    </tr>\n",
       "    <tr>\n",
       "      <th>75%</th>\n",
       "      <td>27.000000</td>\n",
       "      <td>72500.000000</td>\n",
       "    </tr>\n",
       "    <tr>\n",
       "      <th>max</th>\n",
       "      <td>32.000000</td>\n",
       "      <td>80000.000000</td>\n",
       "    </tr>\n",
       "  </tbody>\n",
       "</table>\n",
       "</div>"
      ],
      "text/plain": [
       "             Age        Salary\n",
       "count   5.000000      4.000000\n",
       "mean   25.800000  70000.000000\n",
       "std     3.898718   8164.965809\n",
       "min    22.000000  60000.000000\n",
       "25%    24.000000  67500.000000\n",
       "50%    24.000000  70000.000000\n",
       "75%    27.000000  72500.000000\n",
       "max    32.000000  80000.000000"
      ]
     },
     "execution_count": 90,
     "metadata": {},
     "output_type": "execute_result"
    }
   ],
   "source": [
    "                    # Generating summary statistics\n",
    "df.describe()"
   ]
  },
  {
   "cell_type": "code",
   "execution_count": 97,
   "id": "6d07ee0a-4d67-405a-97b5-ee3db0351e3a",
   "metadata": {},
   "outputs": [
    {
     "name": "stdout",
     "output_type": "stream",
     "text": [
      "              Age               Salary              \n",
      "             mean median  std     mean   median  std\n",
      "City                                                \n",
      "Boston       22.0   22.0  NaN  60000.0  60000.0  NaN\n",
      "Chicago      32.0   32.0  NaN      NaN      NaN  NaN\n",
      "Los Angeles  27.0   27.0  NaN  80000.0  80000.0  NaN\n",
      "New York     24.0   24.0  0.0  70000.0  70000.0  0.0\n"
     ]
    }
   ],
   "source": [
    "city_stats = df.groupby('City').agg({\n",
    "    'Age': ['mean', 'median', 'std'],   # Mean, Median, and Standard Deviation of Age\n",
    "    'Salary': ['mean', 'median', 'std']  # Mean, Median, and Standard Deviation of Salary\n",
    "})\n",
    "print(city_stats)"
   ]
  },
  {
   "cell_type": "raw",
   "id": "590b520d-a8e9-4119-9523-12ffdfe5415f",
   "metadata": {},
   "source": [
    "                        Advanced data manipulation techniques"
   ]
  },
  {
   "cell_type": "code",
   "execution_count": 102,
   "id": "612927c3-8c38-41f3-ae2c-b782e100947c",
   "metadata": {},
   "outputs": [
    {
     "name": "stdout",
     "output_type": "stream",
     "text": [
      "\n",
      "Merged DataFrame with Bonus:\n",
      "      Name   Age         City   Salary   Bonus\n",
      "0    Alice  24.0     New York  70000.0  5000.0\n",
      "1      Bob  27.0  Los Angeles  80000.0  6000.0\n",
      "2  Charlie   NaN     New York      NaN  5500.0\n",
      "3    David  22.0       Boston  60000.0  4000.0\n",
      "4   Edward  32.0      Chicago      NaN     NaN\n",
      "5    Alice  24.0     New York  70000.0  5000.0\n"
     ]
    }
   ],
   "source": [
    "df_bonus = pd.DataFrame({\n",
    "    'Name': ['Alice', 'Bob', 'Charlie', 'David'],\n",
    "    'Bonus': [5000, 6000, 5500, 4000]\n",
    "    })\n",
    "merged_df_bonus = pd.merge(df, df_bonus, on='Name', how='left')\n",
    "print(\"\\nMerged DataFrame with Bonus:\")\n",
    "print(merged_df_bonus)"
   ]
  },
  {
   "cell_type": "code",
   "execution_count": 106,
   "id": "250b3cb5-e34e-4ac3-9ae1-22646453f8f4",
   "metadata": {},
   "outputs": [
    {
     "name": "stdout",
     "output_type": "stream",
     "text": [
      "\n",
      "Concatenated DataFrame:\n",
      "      Name   Age         City   Salary\n",
      "0    Alice  24.0     New York  70000.0\n",
      "1      Bob  27.0  Los Angeles  80000.0\n",
      "2  Charlie   NaN     New York      NaN\n",
      "3    David  22.0       Boston  60000.0\n",
      "3    David  22.0       Boston  60000.0\n",
      "4   Edward  32.0      Chicago      NaN\n",
      "5    Alice  24.0     New York  70000.0\n"
     ]
    }
   ],
   "source": [
    "# Split original DataFrame into two parts\n",
    "df_part1 = df.head(4)\n",
    "df_part2 = df.tail(3)\n",
    "\n",
    "# Concatenate vertically\n",
    "concatenated_vertical = pd.concat([df_part1, df_part2])\n",
    "print(\"\\nConcatenated DataFrame:\")\n",
    "print(concatenated_vertical)"
   ]
  },
  {
   "cell_type": "raw",
   "id": "4a61f9c2-20a4-43e1-9e24-e20737c882de",
   "metadata": {},
   "source": [
    "    Conclusion\n",
    "Pandas is a vital tool for data science professionals due to its robust capabilities for data manipulation and analysis. Here's how it benefits the workflow:\n",
    "\n",
    "1.)Efficient Data Handling: Pandas provides powerful data structures like DataFrame and Series, which streamline data operations and simplify handling large datasets.\n",
    "\n",
    "2.)Advanced Operations: With functions for grouping, merging, and concatenating, Pandas enables complex data transformations and integration, essential for comprehensive analysis.\n",
    "\n",
    "3.)Performance and Flexibility: Pandas outperforms traditional Python data structures in terms of speed and memory efficiency, making it ideal for big data and intricate data tasks."
   ]
  },
  {
   "cell_type": "raw",
   "id": "10a058d1-5ee4-4f93-80ec-6c380998c1fe",
   "metadata": {},
   "source": [
    "          Advantages of Using Pandas Over Traditional Python Data Structures\n",
    "                                                                                     -1.)Structured Data Representation: Pandas DataFrame and Series offer a tabular format with labeled axes, simplifying data organization compared to lists or dictionaries.\n",
    "\n",
    "2.)Ease of Manipulation: Pandas includes powerful methods for data manipulation, such as groupby(), merge(), and pivot_table(), which streamline complex operations.\n",
    "\n",
    "3.)Data Cleaning: Built-in functions like fillna() and dropna() efficiently handle missing data, making preprocessing easier.\n",
    "\n",
    "4.)Performance: Pandas is optimized for speed and memory usage, handling large datasets more efficiently than traditional structures."
   ]
  },
  {
   "cell_type": "raw",
   "id": "22a93048-9a25-4d0d-8dae-c6151461d0de",
   "metadata": {},
   "source": [
    "Real-World Examples Where Pandas is Essential\n",
    "                                                                                                                                                                                            Data Cleaning:\n",
    "Example: In a retail company, Pandas is used to handle missing values, remove duplicates, and standardize data formats before analysis.\n",
    "                                                                                        Exploratory Data Analysis (EDA):\n",
    "Example: A data scientist uses Pandas to generate summary statistics, visualize data distributions, and identify trends in customer transaction data.\n",
    "                                                                                            Financial Analysis:\n",
    "Example: Analysts use Pandas to clean stock price data, calculate moving averages, and analyze investment trends.\n",
    "                                                                                              Customer Segmentation:\n",
    "Example: Marketers segment customers based on purchasing behavior and demographics using Pandas' groupby() and aggregation methods.\n",
    "                                                                                         Healthcare Data Analysis:\n",
    "Example: Researchers preprocess and analyze clinical trial data with Pandas to extract meaningful insights and trends."
   ]
  }
 ],
 "metadata": {
  "kernelspec": {
   "display_name": "Python 3 (ipykernel)",
   "language": "python",
   "name": "python3"
  },
  "language_info": {
   "codemirror_mode": {
    "name": "ipython",
    "version": 3
   },
   "file_extension": ".py",
   "mimetype": "text/x-python",
   "name": "python",
   "nbconvert_exporter": "python",
   "pygments_lexer": "ipython3",
   "version": "3.12.4"
  }
 },
 "nbformat": 4,
 "nbformat_minor": 5
}
